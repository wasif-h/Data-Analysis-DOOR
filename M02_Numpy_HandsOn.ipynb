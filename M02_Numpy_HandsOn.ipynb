{
 "cells": [
  {
   "cell_type": "markdown",
   "metadata": {},
   "source": [
    "# **Numpy Hands On Practice** 👋\n"
   ]
  },
  {
   "cell_type": "code",
   "execution_count": 1,
   "metadata": {},
   "outputs": [],
   "source": [
    "import numpy as np"
   ]
  },
  {
   "cell_type": "markdown",
   "metadata": {},
   "source": [
    "List takes everything as comma separated value, means it is not contiguous but Numpy array does not store comma separated values\n"
   ]
  },
  {
   "cell_type": "code",
   "execution_count": 2,
   "metadata": {},
   "outputs": [
    {
     "name": "stdout",
     "output_type": "stream",
     "text": [
      "[1 2 3 4 5]\n",
      "[1, 2, 3, 4, 5]\n"
     ]
    }
   ],
   "source": [
    "num = np.array([1, 2, 3, 4, 5])\n",
    "num2 = list([1, 2, 3, 4, 5])\n",
    "print(num, num2, sep=\"\\n\")"
   ]
  },
  {
   "cell_type": "code",
   "execution_count": 3,
   "metadata": {},
   "outputs": [
    {
     "name": "stdout",
     "output_type": "stream",
     "text": [
      "[35 48]\n",
      "[12 14]\n",
      "[1, 2, 1, 2]\n"
     ]
    }
   ],
   "source": [
    "n1 = np.array([5, 6])\n",
    "n2 = np.array([7, 8])\n",
    "n3 = list([1, 2])\n",
    "n4 = list([4, 5])\n",
    "\n",
    "print(n1*n2)\n",
    "print(n1 + n2)  # doing matrix operation\n",
    "print(n3 * 2)  # not mathematical"
   ]
  },
  {
   "cell_type": "code",
   "execution_count": 4,
   "metadata": {},
   "outputs": [
    {
     "name": "stdout",
     "output_type": "stream",
     "text": [
      "['1' '2' '3' '4']\n"
     ]
    }
   ],
   "source": [
    "# numpy turns every element according to the data type\n",
    "\n",
    "a = np.array([1, 2, 3, '4'])\n",
    "print(a)\n",
    "# it turns all element to string"
   ]
  },
  {
   "cell_type": "code",
   "execution_count": 5,
   "metadata": {},
   "outputs": [
    {
     "name": "stdout",
     "output_type": "stream",
     "text": [
      "[[1 2]\n",
      " [3 4]\n",
      " [5 6]]\n"
     ]
    },
    {
     "ename": "ValueError",
     "evalue": "setting an array element with a sequence. The requested array has an inhomogeneous shape after 1 dimensions. The detected shape was (3,) + inhomogeneous part.",
     "output_type": "error",
     "traceback": [
      "\u001b[1;31m---------------------------------------------------------------------------\u001b[0m",
      "\u001b[1;31mValueError\u001b[0m                                Traceback (most recent call last)",
      "Cell \u001b[1;32mIn[5], line 5\u001b[0m\n\u001b[0;32m      3\u001b[0m \u001b[38;5;28mprint\u001b[39m(b)\n\u001b[0;32m      4\u001b[0m \u001b[38;5;66;03m# it will take matrices form of n dimentional array\u001b[39;00m\n\u001b[1;32m----> 5\u001b[0m c \u001b[38;5;241m=\u001b[39m \u001b[43mnp\u001b[49m\u001b[38;5;241;43m.\u001b[39;49m\u001b[43marray\u001b[49m\u001b[43m(\u001b[49m\u001b[43m[\u001b[49m\u001b[43m[\u001b[49m\u001b[38;5;241;43m1\u001b[39;49m\u001b[43m,\u001b[49m\u001b[43m \u001b[49m\u001b[38;5;241;43m2\u001b[39;49m\u001b[43m]\u001b[49m\u001b[43m,\u001b[49m\u001b[43m \u001b[49m\u001b[43m[\u001b[49m\u001b[38;5;241;43m3\u001b[39;49m\u001b[43m,\u001b[49m\u001b[43m \u001b[49m\u001b[38;5;241;43m4\u001b[39;49m\u001b[43m]\u001b[49m\u001b[43m,\u001b[49m\u001b[43m \u001b[49m\u001b[43m[\u001b[49m\u001b[38;5;241;43m5\u001b[39;49m\u001b[43m,\u001b[49m\u001b[43m \u001b[49m\u001b[38;5;241;43m6\u001b[39;49m\u001b[43m,\u001b[49m\u001b[43m \u001b[49m\u001b[38;5;241;43m1\u001b[39;49m\u001b[43m]\u001b[49m\u001b[43m]\u001b[49m\u001b[43m)\u001b[49m\n\u001b[0;32m      6\u001b[0m \u001b[38;5;28mprint\u001b[39m(c)\n\u001b[0;32m      7\u001b[0m \u001b[38;5;66;03m# c will show error because all the dimention has to be same\u001b[39;00m\n",
      "\u001b[1;31mValueError\u001b[0m: setting an array element with a sequence. The requested array has an inhomogeneous shape after 1 dimensions. The detected shape was (3,) + inhomogeneous part."
     ]
    }
   ],
   "source": [
    "# it will take matrices form of n dimentional array\n",
    "b = np.array([[1, 2], [3, 4], [5, 6]])\n",
    "print(b)\n",
    "# it will take matrices form of n dimentional array\n",
    "c = np.array([[1, 2], [3, 4], [5, 6, 1]])\n",
    "print(c)\n",
    "# c will show error because all the dimention has to be same"
   ]
  },
  {
   "cell_type": "markdown",
   "metadata": {},
   "source": [
    "## Data Type\n"
   ]
  },
  {
   "cell_type": "code",
   "execution_count": 21,
   "metadata": {},
   "outputs": [
    {
     "name": "stdout",
     "output_type": "stream",
     "text": [
      "<class 'numpy.ndarray'>\n",
      "<class 'numpy.int64'>\n",
      "<class 'numpy.int64'>\n"
     ]
    }
   ],
   "source": [
    "a = np.array([1, 2, 3, 4, 5])\n",
    "print(type(a))\n",
    "print(type(a[0]))\n",
    "a = np.array([[1, 2, 3, 4, 5], [6, \"5\", 8, 9, 10]], dtype=int)\n",
    "# i can explicitly convert '5' to 5 but I couldn't turn any word to the integer\n",
    "print(type(a[0][0]))"
   ]
  },
  {
   "cell_type": "markdown",
   "metadata": {},
   "source": [
    "## Slicing\n"
   ]
  },
  {
   "cell_type": "code",
   "execution_count": 13,
   "metadata": {},
   "outputs": [
    {
     "name": "stdout",
     "output_type": "stream",
     "text": [
      "7\n",
      "[7 8]\n",
      "[1 2 3]\n",
      "[[ 6  7]\n",
      " [10 11]]\n"
     ]
    }
   ],
   "source": [
    "arr = np.array([[1, 2, 3, 4], [5, 6, 7, 8], [9, 10, 11, 12]])\n",
    "print(arr[1, 2])\n",
    "print(arr[1, 2:])\n",
    "print(arr[0, :3])\n",
    "print(arr[1:, 1:3])"
   ]
  },
  {
   "cell_type": "markdown",
   "metadata": {},
   "source": [
    "# inspection of array\n"
   ]
  },
  {
   "cell_type": "code",
   "execution_count": 22,
   "metadata": {},
   "outputs": [
    {
     "name": "stdout",
     "output_type": "stream",
     "text": [
      "12\n",
      "3\n",
      "2\n",
      "(3, 4)\n",
      "int64\n",
      "[[ 1.  2.  3.  4.]\n",
      " [ 5.  6.  7.  8.]\n",
      " [ 9. 10. 11. 12.]]\n"
     ]
    }
   ],
   "source": [
    "\n",
    "arr = np.array([[1, 2, 3, 4], [5, 6, 7, 8], [9, 10, 11, 12]])\n",
    "\n",
    "print(np.size(arr))\n",
    "print(len(arr))\n",
    "print(arr.ndim)\n",
    "print(arr.shape)\n",
    "print(arr.dtype)\n",
    "print(arr.astype(float))"
   ]
  },
  {
   "cell_type": "markdown",
   "metadata": {},
   "source": [
    "## Filling array\n"
   ]
  },
  {
   "cell_type": "code",
   "execution_count": 36,
   "metadata": {},
   "outputs": [
    {
     "name": "stdout",
     "output_type": "stream",
     "text": [
      "[[[8 8]\n",
      "  [8 8]]\n",
      "\n",
      " [[8 8]\n",
      "  [8 8]]]\n",
      "[[0. 0. 0.]\n",
      " [0. 0. 0.]\n",
      " [0. 0. 0.]]\n",
      "[[1. 1. 1. 1.]\n",
      " [1. 1. 1. 1.]\n",
      " [1. 1. 1. 1.]\n",
      " [1. 1. 1. 1.]]\n",
      "[[[4.e-323 4.e-323]\n",
      "  [4.e-323 4.e-323]]\n",
      "\n",
      " [[4.e-323 4.e-323]\n",
      "  [4.e-323 4.e-323]]]\n",
      "[ 1  3  5  7  9 11 13 15 17 19 21 23 25 27 29 31 33 35 37 39 41 43 45 47\n",
      " 49]\n",
      "[ 1.         25.66666667 50.33333333 75.        ]\n"
     ]
    }
   ],
   "source": [
    "arr = np.full((2, 2, 2), 8)\n",
    "print(arr)\n",
    "arr = np.zeros((3, 3))\n",
    "print(arr)\n",
    "arr = np.ones((4, 4))\n",
    "print(arr)\n",
    "# empty store the metadata not values\n",
    "arr = np.empty((2, 2, 2))\n",
    "print(arr)\n",
    "# arange is like range, make array from this to this\n",
    "arr = np.arange(1, 51, 2)\n",
    "print(arr)\n",
    "# linspace is not like range, last input means proportion\n",
    "arr = np.linspace(1, 75, 4)\n",
    "print(arr)"
   ]
  },
  {
   "cell_type": "markdown",
   "metadata": {},
   "source": [
    "## Mathematical Operation\n"
   ]
  },
  {
   "cell_type": "code",
   "execution_count": 41,
   "metadata": {},
   "outputs": [
    {
     "name": "stdout",
     "output_type": "stream",
     "text": [
      "nan\n",
      "[inf]\n"
     ]
    },
    {
     "name": "stderr",
     "output_type": "stream",
     "text": [
      "C:\\Users\\ASUS\\AppData\\Local\\Temp\\ipykernel_14376\\1405857098.py:8: RuntimeWarning: divide by zero encountered in divide\n",
      "  print(np.array([10])/0)\n"
     ]
    }
   ],
   "source": [
    "# nan - if i dont give any number then i will fill nan in that place\n",
    "\n",
    "arr = np.array([1, 2, np.nan])\n",
    "print(arr[2])\n",
    "\n",
    "# if i divide anything with 0 it will give me infinity which can bring error so i can put np.inf their\n",
    "\n",
    "print(np.array([10]) / 0)\n",
    "# runtime warnig but provide inf\n",
    "# we can also use np.isinf and np.isnan to check"
   ]
  },
  {
   "cell_type": "code",
   "execution_count": 29,
   "metadata": {},
   "outputs": [
    {
     "name": "stdout",
     "output_type": "stream",
     "text": [
      "[[ 2  4  6  8]\n",
      " [10 12 14 16]\n",
      " [18 20 22 24]]\n",
      "[[ 2  4  6  8]\n",
      " [10 12 14 16]\n",
      " [18 20 22 24]]\n",
      "[[0 0 0 0]\n",
      " [0 0 0 0]\n",
      " [0 0 0 0]]\n",
      "[[0 0 0 0]\n",
      " [0 0 0 0]\n",
      " [0 0 0 0]]\n",
      "[[  1   4   9  16]\n",
      " [ 25  36  49  64]\n",
      " [ 81 100 121 144]]\n",
      "[[  1   4   9  16]\n",
      " [ 25  36  49  64]\n",
      " [ 81 100 121 144]]\n",
      "[[1. 1. 1. 1.]\n",
      " [1. 1. 1. 1.]\n",
      " [1. 1. 1. 1.]]\n",
      "[[1. 1. 1. 1.]\n",
      " [1. 1. 1. 1.]\n",
      " [1. 1. 1. 1.]]\n"
     ]
    }
   ],
   "source": [
    "arr2 = np.array([[1,  2,  3,  4],\n",
    "                 [5,  6,  7,  8],\n",
    "                 [9, 10, 11, 12]])\n",
    "print(arr + arr2)\n",
    "print(np.add(arr, arr2))\n",
    "print(arr - arr2)\n",
    "print(np.subtract(arr, arr2))\n",
    "print(arr * arr2)\n",
    "print(np.multiply(arr, arr2))\n",
    "print(arr / arr2)\n",
    "print(np.divide(arr, arr2))"
   ]
  },
  {
   "cell_type": "code",
   "execution_count": 46,
   "metadata": {},
   "outputs": [
    {
     "name": "stdout",
     "output_type": "stream",
     "text": [
      "[ 0.         -0.95892427 -0.54402111  0.65028784  0.91294525 -0.13235175\n",
      " -0.98803162 -0.42818267  0.74511316  0.85090352 -0.26237485 -0.99975517\n",
      " -0.30481062  0.82682868  0.77389068 -0.38778164 -0.99388865 -0.17607562\n",
      "  0.89399666]\n",
      "[0.         1.37340077 1.47112767 1.50422816 1.52083793 1.53081764\n",
      " 1.53747533 1.54223267 1.54580153 1.54857776 1.55079899 1.55261651\n",
      " 1.5541312  1.55541293 1.55651158 1.55746378 1.55829698 1.55903216\n",
      " 1.55968567]\n",
      "[      -inf 1.60943791 2.30258509 2.7080502  2.99573227 3.21887582\n",
      " 3.40119738 3.55534806 3.68887945 3.80666249 3.91202301 4.00733319\n",
      " 4.09434456 4.17438727 4.24849524 4.31748811 4.38202663 4.44265126\n",
      " 4.49980967]\n"
     ]
    },
    {
     "name": "stderr",
     "output_type": "stream",
     "text": [
      "C:\\Users\\ASUS\\AppData\\Local\\Temp\\ipykernel_14376\\731654517.py:4: RuntimeWarning: divide by zero encountered in log\n",
      "  print(np.log(arr))\n"
     ]
    }
   ],
   "source": [
    "arr = np.arange(0, 91, 5)\n",
    "print(np.sin(arr))\n",
    "print(np.arctan(arr))\n",
    "print(np.log(arr))"
   ]
  },
  {
   "cell_type": "code",
   "execution_count": 33,
   "metadata": {},
   "outputs": [
    {
     "name": "stdout",
     "output_type": "stream",
     "text": [
      "[[  1   4   9  16]\n",
      " [ 25  36  49  64]\n",
      " [ 81 100 121 144]]\n",
      "[[1.         1.41421356 1.73205081 2.        ]\n",
      " [2.23606798 2.44948974 2.64575131 2.82842712]\n",
      " [3.         3.16227766 3.31662479 3.46410162]]\n"
     ]
    }
   ],
   "source": [
    "print(np.power(arr, 2))\n",
    "print(np.sqrt(arr))"
   ]
  },
  {
   "cell_type": "markdown",
   "metadata": {},
   "source": [
    "## **concatenation**, **stacking**, and **splitting**\n",
    "\n",
    "---\n",
    "\n",
    "### **1. Concatenation in NumPy**\n",
    "Concatenation combines two or more arrays along a specified axis.\n",
    "\n",
    "#### Syntax:\n",
    "```python\n",
    "numpy.concatenate((array1, array2, ...), axis=0)\n",
    "```\n",
    "\n",
    "- `axis=0`: Combines along rows (vertically).\n",
    "- `axis=1`: Combines along columns (horizontally).\n",
    "\n",
    "#### Example:\n",
    "```python\n",
    "import numpy as np\n",
    "\n",
    "# Creating two 2D arrays\n",
    "array1 = np.array([[1, 2], [3, 4]])\n",
    "array2 = np.array([[5, 6], [7, 8]])\n",
    "\n",
    "# Concatenate along rows (axis=0)\n",
    "result_vertical = np.concatenate((array1, array2), axis=0)\n",
    "\n",
    "# Concatenate along columns (axis=1)\n",
    "result_horizontal = np.concatenate((array1, array2), axis=1)\n",
    "\n",
    "print(\"Vertical Concatenation:\\n\", result_vertical)\n",
    "print(\"Horizontal Concatenation:\\n\", result_horizontal)\n",
    "```\n",
    "\n",
    "---\n",
    "\n",
    "### **2. Stacking in NumPy**\n",
    "Stacking joins arrays along a new axis.\n",
    "\n",
    "#### Functions:\n",
    "- `numpy.stack`: Joins along a new axis.\n",
    "- `numpy.vstack`: Stacks vertically.\n",
    "- `numpy.hstack`: Stacks horizontally.\n",
    "- `numpy.dstack`: Stacks depth-wise (along a new third axis).\n",
    "\n",
    "#### Example:\n",
    "```python\n",
    "# Using the same arrays as before\n",
    "# Stack along a new axis (axis=0)\n",
    "stacked_new_axis = np.stack((array1, array2), axis=0)\n",
    "\n",
    "# Vertical stack (no new axis)\n",
    "vertical_stack = np.vstack((array1, array2))\n",
    "\n",
    "# Horizontal stack (no new axis)\n",
    "horizontal_stack = np.hstack((array1, array2))\n",
    "\n",
    "print(\"Stacked along a new axis:\\n\", stacked_new_axis)\n",
    "print(\"Vertical Stack:\\n\", vertical_stack)\n",
    "print(\"Horizontal Stack:\\n\", horizontal_stack)\n",
    "```\n",
    "\n",
    "---\n",
    "\n",
    "### **3. Splitting in NumPy**\n",
    "Splitting divides an array into multiple sub-arrays.\n",
    "\n",
    "#### Functions:\n",
    "- `numpy.split`: Splits into specified equal parts.\n",
    "- `numpy.vsplit`: Splits vertically.\n",
    "- `numpy.hsplit`: Splits horizontally.\n",
    "\n",
    "#### Example:\n",
    "```python\n",
    "# Creating a 2D array\n",
    "array = np.array([[1, 2, 3, 4], [5, 6, 7, 8]])\n",
    "\n",
    "# Split into 2 equal parts along columns (axis=1)\n",
    "split_arrays = np.split(array, 2, axis=1)\n",
    "\n",
    "# Vertical split into 2 parts (axis=0)\n",
    "vertical_split = np.vsplit(array, 2)\n",
    "\n",
    "print(\"Split into 2 equal parts:\\n\", split_arrays)\n",
    "print(\"Vertical Split:\\n\", vertical_split)\n",
    "```\n",
    "\n",
    "---\n",
    "\n",
    "### **Key Points**\n",
    "1. **Concatenate** merges along an existing axis.\n",
    "2. **Stack** adds a new axis while combining.\n",
    "3. **Split** divides arrays into smaller sub-arrays.\n",
    "\n"
   ]
  },
  {
   "cell_type": "code",
   "execution_count": 40,
   "metadata": {},
   "outputs": [
    {
     "name": "stdout",
     "output_type": "stream",
     "text": [
      "[[ 7  9]\n",
      " [ 5 13]]\n",
      "[1 2 2 9]\n",
      "[1 2 6 7]\n",
      "[[1 2]\n",
      " [6 7]]\n",
      "[[1 2 6 7]\n",
      " [3 4 2 9]]\n",
      "[[1 2]\n",
      " [3 4]\n",
      " [6 7]\n",
      " [2 9]]\n"
     ]
    }
   ],
   "source": [
    "a = np.array([[1, 2],\n",
    "              [3, 4]])\n",
    "\n",
    "\n",
    "\n",
    "b = np.array([[6, 7],\n",
    "              [2, 9]])\n",
    "\n",
    "\n",
    "\n",
    "print(a + b)  # it will do math operation\n",
    "\n",
    "\n",
    "\n",
    "print(np.concatenate([a[0], b[1]]))\n",
    "\n",
    "\n",
    "\n",
    "print(np.hstack([a[0], b[0]]))\n",
    "\n",
    "\n",
    "\n",
    "print(np.vstack([a[0], b[0]]))\n",
    "\n",
    "\n",
    "\n",
    "print(np.hstack([a, b]))\n",
    "\n",
    "\n",
    "\n",
    "print(np.vstack([a, b]))"
   ]
  },
  {
   "cell_type": "code",
   "execution_count": 49,
   "metadata": {},
   "outputs": [
    {
     "name": "stdout",
     "output_type": "stream",
     "text": [
      "[array([1, 2]), array([3, 4]), array([5, 6]), array([7, 8])]\n",
      "[array([1, 2]), array([3, 4]), array([5, 6]), array([7]), array([8])]\n",
      "[array([1]), array([2]), array([3]), array([4]), array([5]), array([6]), array([7]), array([8]), array([], dtype=int64)]\n"
     ]
    }
   ],
   "source": [
    "arr = np.array([1, 2, 3, 4, 5, 6, 7, 8])\n",
    "\n",
    "print(np.array_split(arr, 4))\n",
    "print(np.array_split(arr, 5))\n",
    "print(np.array_split(arr, 9))"
   ]
  },
  {
   "cell_type": "markdown",
   "metadata": {},
   "source": [
    "## Insert\n"
   ]
  },
  {
   "cell_type": "code",
   "execution_count": 18,
   "metadata": {},
   "outputs": [
    {
     "name": "stdout",
     "output_type": "stream",
     "text": [
      "[ 1  2 90  3]\n",
      "[100   1 200   2  90   3]\n",
      "[100   1 200   2  90   3   4   5   6]\n",
      "[[[6 7 8]\n",
      "  [5 5 5]\n",
      "  [5 5 5]\n",
      "  [5 5 5]]\n",
      "\n",
      " [[6 7 8]\n",
      "  [5 5 5]\n",
      "  [5 5 5]\n",
      "  [5 5 5]]]\n"
     ]
    }
   ],
   "source": [
    "arr = np.array([1, 2, 3])\n",
    "# np.insert(arr,2,90,axis=0) we can not do this like list , we have to save it in a new array or existing array to update it\n",
    "arr = np.insert(arr, 2, 90, axis=0)\n",
    "print(arr)\n",
    "arr = np.insert(arr, [0, 1], [100, 200], axis=0)\n",
    "# first it will insert 100 at 0 then 200 at index 1 , all the time it will look at the base array not the updated one, thats why it prints 100, 1, 200\n",
    "print(arr)\n",
    "arr = np.append(arr, [4, 5, 6], axis=0)\n",
    "print(arr)\n",
    "arr = np.full((2, 3, 3), 5)\n",
    "# print(arr)\n",
    "arr2 = np.insert(arr, 0, [6, 7, 8], axis=1)\n",
    "print(arr2)"
   ]
  },
  {
   "cell_type": "markdown",
   "metadata": {},
   "source": [
    "# Delete\n"
   ]
  },
  {
   "cell_type": "code",
   "execution_count": 21,
   "metadata": {},
   "outputs": [
    {
     "name": "stdout",
     "output_type": "stream",
     "text": [
      "[[[1 7 6]\n",
      "  [8 1 1]\n",
      "  [1 6 5]]\n",
      "\n",
      " [[5 5 3]\n",
      "  [9 6 8]\n",
      "  [3 2 7]]\n",
      "\n",
      " [[6 6 7]\n",
      "  [3 4 1]\n",
      "  [7 7 2]]]\n"
     ]
    }
   ],
   "source": [
    "arr_base = np.random.randint(1, 10, (3, 3, 3))"
   ]
  },
  {
   "cell_type": "markdown",
   "metadata": {},
   "source": [
    "`Understand AXIS`\n"
   ]
  },
  {
   "cell_type": "code",
   "execution_count": 30,
   "metadata": {},
   "outputs": [
    {
     "name": "stdout",
     "output_type": "stream",
     "text": [
      "[[[5 5 3]\n",
      "  [9 6 8]\n",
      "  [3 2 7]]\n",
      "\n",
      " [[6 6 7]\n",
      "  [3 4 1]\n",
      "  [7 7 2]]]\n",
      "\n",
      "[[[8 1 1]\n",
      "  [1 6 5]]\n",
      "\n",
      " [[9 6 8]\n",
      "  [3 2 7]]\n",
      "\n",
      " [[3 4 1]\n",
      "  [7 7 2]]]\n",
      "\n",
      "[[[7 6]\n",
      "  [1 1]\n",
      "  [6 5]]\n",
      "\n",
      " [[5 3]\n",
      "  [6 8]\n",
      "  [2 7]]\n",
      "\n",
      " [[6 7]\n",
      "  [4 1]\n",
      "  [7 2]]]\n",
      "\n"
     ]
    }
   ],
   "source": [
    "arr = arr_base[:]\n",
    "arr = np.delete(arr, 0, axis=0)\n",
    "print(arr, end=\"\\n\\n\")\n",
    "arr = arr_base[:]\n",
    "arr = np.delete(arr, 0, axis=1)\n",
    "print(arr, end=\"\\n\\n\")\n",
    "arr = arr_base[:]\n",
    "arr = np.delete(arr, 0, axis=2)\n",
    "print(arr, end=\"\\n\\n\")"
   ]
  },
  {
   "cell_type": "code",
   "execution_count": 33,
   "metadata": {},
   "outputs": [
    {
     "name": "stdout",
     "output_type": "stream",
     "text": [
      "[[[2 1]\n",
      "  [3 9]]\n",
      "\n",
      " [[9 3]\n",
      "  [2 9]]]\n",
      "\n",
      "[[[9 3]\n",
      "  [2 9]]]\n",
      "\n",
      "[[[3 9]]\n",
      "\n",
      " [[2 9]]]\n",
      "\n",
      "[[[1]\n",
      "  [9]]\n",
      "\n",
      " [[3]\n",
      "  [9]]]\n",
      "\n"
     ]
    }
   ],
   "source": [
    "arr_base = np.random.randint(1, 10, (2, 2, 2))\n",
    "print(arr_base, end=\"\\n\\n\")\n",
    "arr = arr_base[:]\n",
    "arr = np.delete(arr, 0, axis=0)\n",
    "print(arr, end=\"\\n\\n\")\n",
    "arr = arr_base[:]\n",
    "arr = np.delete(arr, 0, axis=1)\n",
    "print(arr, end=\"\\n\\n\")\n",
    "arr = arr_base[:]\n",
    "arr = np.delete(arr, 0, axis=2)\n",
    "print(arr, end=\"\\n\\n\")"
   ]
  },
  {
   "cell_type": "markdown",
   "metadata": {},
   "source": [
    "## **Change Structure**\n",
    "\n",
    "### **Comparison Table**\n",
    "\n",
    "| Method       | Returns    | Changes Original? | Maintains Shape Rules | Copies Data? | Notes                                     |\n",
    "|--------------|------------|-------------------|------------------------|--------------|-------------------------------------------|\n",
    "| **reshape**  | New array  | No                | Yes                   | No (if possible) | Requires total elements to match.          |\n",
    "| **resize**   | None       | Yes               | No                    | N/A          | Fills extra elements if resizing larger.  |\n",
    "| **flatten**  | New array  | No                | N/A                   | Yes          | Always creates a copy.                    |\n",
    "| **ravel**    | New array  | No                | N/A                   | No (if possible) | Returns a view if possible, else a copy.  |\n",
    "\n",
    "---\n",
    "\n",
    "### **Key Differences**\n",
    "1. **reshape vs. resize**:\n",
    "   - `reshape` creates a new array, while `resize` modifies the array in place.\n",
    "   - `resize` allows changing the total number of elements, filling extras with default values, whereas `reshape` requires the same total number of elements.\n",
    "\n",
    "2. **flatten vs. ravel**:\n",
    "   - `flatten` always returns a copy, while `ravel` tries to return a view (more memory efficient).\n",
    "   - Modifying a `ravel` result may affect the original array if it's a view.\n",
    "\n",
    "---"
   ]
  },
  {
   "cell_type": "code",
   "execution_count": 34,
   "metadata": {},
   "outputs": [
    {
     "name": "stdout",
     "output_type": "stream",
     "text": [
      "[[2 2 6 8]\n",
      " [8 9 7 4]\n",
      " [2 6 4 1]]\n"
     ]
    }
   ],
   "source": [
    "arr = np.random.randint(1,10,(3,4))\n",
    "print(arr)"
   ]
  },
  {
   "cell_type": "code",
   "execution_count": 45,
   "metadata": {},
   "outputs": [
    {
     "name": "stdout",
     "output_type": "stream",
     "text": [
      "[[2 2]\n",
      " [6 8]\n",
      " [8 9]\n",
      " [7 4]\n",
      " [2 6]\n",
      " [4 1]]\n"
     ]
    }
   ],
   "source": [
    "arr1 = np.reshape(arr,(6,2)) \n",
    "# the multiply of axis must be same like 6*2, 4*3 , 12*1\n",
    "print(arr1)"
   ]
  },
  {
   "cell_type": "code",
   "execution_count": 46,
   "metadata": {},
   "outputs": [
    {
     "name": "stdout",
     "output_type": "stream",
     "text": [
      "[[2 2 6]\n",
      " [8 8 9]\n",
      " [7 4 2]\n",
      " [6 4 1]]\n"
     ]
    }
   ],
   "source": [
    "arr.resize((4,3))\n",
    "print(arr)"
   ]
  },
  {
   "cell_type": "code",
   "execution_count": 49,
   "metadata": {},
   "outputs": [
    {
     "name": "stdout",
     "output_type": "stream",
     "text": [
      "[2 2 6 8 8 9 7 4 2 6 4 1]\n"
     ]
    }
   ],
   "source": [
    "arr2 = arr1.flatten()\n",
    "print(arr2)"
   ]
  },
  {
   "cell_type": "code",
   "execution_count": 53,
   "metadata": {},
   "outputs": [
    {
     "name": "stdout",
     "output_type": "stream",
     "text": [
      "[2 2 6 8 8 9 7 4 2 6 4 1]\n",
      "[[2 2]\n",
      " [6 8]\n",
      " [8 9]\n",
      " [7 4]\n",
      " [2 6]\n",
      " [4 1]]\n"
     ]
    }
   ],
   "source": [
    "arr2 = np.ravel(arr1)\n",
    "print(arr2)\n"
   ]
  },
  {
   "cell_type": "code",
   "execution_count": null,
   "metadata": {},
   "outputs": [],
   "source": []
  },
  {
   "cell_type": "code",
   "execution_count": null,
   "metadata": {},
   "outputs": [],
   "source": []
  },
  {
   "cell_type": "code",
   "execution_count": null,
   "metadata": {},
   "outputs": [],
   "source": []
  },
  {
   "cell_type": "code",
   "execution_count": null,
   "metadata": {},
   "outputs": [],
   "source": []
  },
  {
   "cell_type": "code",
   "execution_count": null,
   "metadata": {},
   "outputs": [],
   "source": []
  },
  {
   "cell_type": "code",
   "execution_count": null,
   "metadata": {},
   "outputs": [],
   "source": []
  }
 ],
 "metadata": {
  "kernelspec": {
   "display_name": "Python 3",
   "language": "python",
   "name": "python3"
  },
  "language_info": {
   "codemirror_mode": {
    "name": "ipython",
    "version": 3
   },
   "file_extension": ".py",
   "mimetype": "text/x-python",
   "name": "python",
   "nbconvert_exporter": "python",
   "pygments_lexer": "ipython3",
   "version": "3.13.1"
  }
 },
 "nbformat": 4,
 "nbformat_minor": 2
}
